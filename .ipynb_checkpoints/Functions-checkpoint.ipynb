{
 "cells": [
  {
   "cell_type": "code",
   "execution_count": 5,
   "id": "32674d12",
   "metadata": {},
   "outputs": [],
   "source": [
    "import email\n",
    "import imaplib\n",
    "import os\n",
    "import pywin\n",
    "import win32com.client"
   ]
  },
  {
   "cell_type": "code",
   "execution_count": 6,
   "id": "1b93c922",
   "metadata": {},
   "outputs": [],
   "source": [
    "#Establish a Connection to Outlook\n",
    "outlook = win32com.client.Dispatch(\"Outlook.Application\").GetNamespace(\"MAPI\")"
   ]
  },
  {
   "cell_type": "code",
   "execution_count": 7,
   "id": "d31465cc",
   "metadata": {},
   "outputs": [
    {
     "name": "stdout",
     "output_type": "stream",
     "text": [
      "3 Deleted Items\n",
      "4 Outbox\n",
      "5 Sent Items\n",
      "6 Inbox\n",
      "9 Calendar\n",
      "10 Contacts\n",
      "11 Journal\n",
      "12 Notes\n",
      "13 Tasks\n",
      "14 Reminders\n",
      "15 Reminders\n",
      "16 Drafts\n",
      "17 Conflicts\n",
      "19 Conflicts\n",
      "20 Sync Issues\n",
      "21 Local Failures\n",
      "22 Server Failures\n",
      "23 Junk Email\n",
      "25 RSS Subscriptions\n",
      "26 Tracked Mail Processing\n",
      "28 To-Do List\n",
      "31 Quick Step Settings\n",
      "33 the file so that changes to the file will be reflected in your item.\n",
      "35 {A9E2BC46-B3A0-4243-B315-60D991004455}\n",
      "36 {06967759-274D-40B2-A3EB-D7F9E73727D7}\n",
      "37 Social Activity Notifications\n",
      "38 the file so that changes to the file will be reflected in your item.\n"
     ]
    }
   ],
   "source": [
    "#check index\n",
    "for i in range(50):\n",
    "  try:\n",
    "    box = outlook.GetDefaultFolder(i)\n",
    "    name = box.Name\n",
    "    print(i, name)\n",
    "  except:\n",
    "    pass"
   ]
  },
  {
   "cell_type": "code",
   "execution_count": null,
   "id": "b2f7012f",
   "metadata": {},
   "outputs": [],
   "source": [
    "#getinbox\n",
    "inbox = outlook.GetDefaultFolder(6)\n",
    "inbox"
   ]
  },
  {
   "cell_type": "code",
   "execution_count": null,
   "id": "d3f02488",
   "metadata": {},
   "outputs": [],
   "source": [
    "#read the mail\n",
    "# Access to the email in the inbox\n",
    "messages = inbox.Items\n",
    "# get the first email\n",
    "message = messages.GetFirst()\n",
    "# get the last email\n",
    "#message = messages.GetLast()\n",
    "# to loop thru the email in the inbox \n",
    "while True:\n",
    "  try:\n",
    "    print(message.subject) # get the subject of the email\n",
    "    # if you use messages.GetFirst() earlier\n",
    "    message = messages.GetNext() \n",
    "    # if you use messages.GetPrevious() earlier \n",
    "    #message = messages.GetPrevious()\n",
    "  except:\n",
    "    # if you use messages.GetFirst() earlier\n",
    "    message = messages.GetNext() \n",
    "    # if you use messages.GetPrevious() earlier \n",
    "    #message = messages.GetPrevious()\n",
    "\n",
    "    #The above example shows how to print the subject of all of the email in the Inbox. Other than the subject, there are other properties we can print or use as criteria to define a conditional statement. The below shown some of the common properties.\n",
    "\n",
    "message.subject\n",
    "#message.senton               # return the date & time email sent\n",
    "message.senton.date()\n",
    "#message.senton.time()\n",
    "#message.sender\n",
    "#message.SenderEmailAddress\n",
    "#message.Attachments"
   ]
  },
  {
   "cell_type": "code",
   "execution_count": null,
   "id": "6327db51",
   "metadata": {},
   "outputs": [],
   "source": []
  },
  {
   "cell_type": "code",
   "execution_count": null,
   "id": "87704b7e",
   "metadata": {},
   "outputs": [],
   "source": []
  },
  {
   "cell_type": "code",
   "execution_count": 9,
   "id": "18321004",
   "metadata": {},
   "outputs": [
    {
     "ename": "NameError",
     "evalue": "name 'inbox' is not defined",
     "output_type": "error",
     "traceback": [
      "\u001b[1;31m---------------------------------------------------------------------------\u001b[0m",
      "\u001b[1;31mNameError\u001b[0m                                 Traceback (most recent call last)",
      "Input \u001b[1;32mIn [9]\u001b[0m, in \u001b[0;36m<cell line: 3>\u001b[1;34m()\u001b[0m\n\u001b[0;32m      1\u001b[0m \u001b[38;5;66;03m#read the mail\u001b[39;00m\n\u001b[0;32m      2\u001b[0m \u001b[38;5;66;03m# Access to the email in the inbox\u001b[39;00m\n\u001b[1;32m----> 3\u001b[0m messages \u001b[38;5;241m=\u001b[39m \u001b[43minbox\u001b[49m\u001b[38;5;241m.\u001b[39mItems\n\u001b[0;32m      4\u001b[0m \u001b[38;5;66;03m# get the first email\u001b[39;00m\n\u001b[0;32m      5\u001b[0m message \u001b[38;5;241m=\u001b[39m messages\u001b[38;5;241m.\u001b[39mGetFirst()\n",
      "\u001b[1;31mNameError\u001b[0m: name 'inbox' is not defined"
     ]
    }
   ],
   "source": []
  },
  {
   "cell_type": "code",
   "execution_count": null,
   "id": "88ef4680",
   "metadata": {},
   "outputs": [],
   "source": [
    "hf g j"
   ]
  },
  {
   "cell_type": "code",
   "execution_count": null,
   "id": "02599e7f",
   "metadata": {},
   "outputs": [],
   "source": []
  },
  {
   "cell_type": "code",
   "execution_count": null,
   "id": "fb5583e7",
   "metadata": {},
   "outputs": [],
   "source": []
  },
  {
   "cell_type": "code",
   "execution_count": null,
   "id": "3216035c",
   "metadata": {},
   "outputs": [],
   "source": [
    "#Some Basic Methods\n",
    "inbox = outlook.GetDefaultFolder(6)\n",
    "# for sub folder, add <.folder(\"your folder name\")>\n",
    "inbox = outlook.GetDefaultFolder(6).folders(\"Testing\")"
   ]
  },
  {
   "cell_type": "code",
   "execution_count": null,
   "id": "31b42a15",
   "metadata": {},
   "outputs": [],
   "source": []
  },
  {
   "cell_type": "code",
   "execution_count": null,
   "id": "79124f7d",
   "metadata": {},
   "outputs": [],
   "source": []
  },
  {
   "cell_type": "code",
   "execution_count": null,
   "id": "4b27195f",
   "metadata": {},
   "outputs": [],
   "source": []
  },
  {
   "cell_type": "code",
   "execution_count": null,
   "id": "6093127c",
   "metadata": {},
   "outputs": [],
   "source": []
  }
 ],
 "metadata": {
  "kernelspec": {
   "display_name": "Python 3 (ipykernel)",
   "language": "python",
   "name": "python3"
  },
  "language_info": {
   "codemirror_mode": {
    "name": "ipython",
    "version": 3
   },
   "file_extension": ".py",
   "mimetype": "text/x-python",
   "name": "python",
   "nbconvert_exporter": "python",
   "pygments_lexer": "ipython3",
   "version": "3.9.12"
  }
 },
 "nbformat": 4,
 "nbformat_minor": 5
}
