{
 "cells": [
  {
   "cell_type": "code",
   "execution_count": null,
   "id": "2e4326b2",
   "metadata": {},
   "outputs": [],
   "source": [
    "from pathlib import Path  #core python module\n",
    "import win32com.client  #pip install pywin32\n",
    "import os\n",
    "\n",
    "# Create output folder\n",
    "output_dir = Path.cwd() / \"Output\"\n",
    "output_dir.mkdir(parents=True, exist_ok=True)\n",
    "\n",
    "# Connect to outlook\n",
    "outlook = win32com.client.Dispatch(\"Outlook.Application\").GetNamespace(\"MAPI\")\n",
    "\n",
    "# Connect to folder\n",
    "#inbox = outlook.Folders(\"youremail@provider.com\").Folders(\"Inbox\")\n",
    "inbox = outlook.GetDefaultFolder(6)\n",
    "# https://docs.microsoft.com/en-us/office/vba/api/outlook.oldefaultfolders\n",
    "# DeletedItems=3, Outbox=4, SentMail=5, Inbox=6, Drafts=16, FolderJunk=23\n",
    "\n",
    "# Get messages\n",
    "messages = inbox.Items\n",
    "\n",
    "for message in messages:\n",
    "    subject = message.Subject\n",
    "    #body = message.body\n",
    "    attachments = message.Attachments\n",
    "\n",
    "    # Create separate folder for each message\n",
    "    target_folder = output_dir / str(subject)\n",
    "    #target_folder.mkdir(parents=True, exist_ok=True)\n",
    "\n",
    "    # Write body to text file\n",
    "    #Path(target_folder / \"EMAIL_BODY.txt\").write_text(str(body))\n",
    "\n",
    "    # Save attachments\n",
    "    #for attachment in attachments:\n",
    "     #   attachment.SaveAsFile(target_folder / str(attachment))"
   ]
  },
  {
   "cell_type": "code",
   "execution_count": null,
   "id": "664cf54c",
   "metadata": {},
   "outputs": [],
   "source": []
  }
 ],
 "metadata": {
  "kernelspec": {
   "display_name": "Python 3 (ipykernel)",
   "language": "python",
   "name": "python3"
  },
  "language_info": {
   "codemirror_mode": {
    "name": "ipython",
    "version": 3
   },
   "file_extension": ".py",
   "mimetype": "text/x-python",
   "name": "python",
   "nbconvert_exporter": "python",
   "pygments_lexer": "ipython3",
   "version": "3.9.12"
  }
 },
 "nbformat": 4,
 "nbformat_minor": 5
}
